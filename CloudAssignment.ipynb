{
 "cells": [
  {
   "cell_type": "code",
   "execution_count": 5,
   "metadata": {},
   "outputs": [
    {
     "name": "stdout",
     "output_type": "stream",
     "text": [
      "96    best selling books is Harry Potter Boxset (Har...\n",
      "Name: title, dtype: object\n",
      "the avrage of harry potter books is 4.4910000000000005\n"
     ]
    }
   ],
   "source": [
    "import pandas as pd\n",
    "df = pd.read_csv('books.csv')\n",
    "\n",
    "df.dropna(inplace=True)   \n",
    "\n",
    "df.drop_duplicates(inplace=True)\n",
    "\n",
    "\n",
    "\n",
    "HarryPotterBooks = df[df['original_title'].str.contains('Harry Potter', case=False) ]\n",
    "\n",
    "heightestRate=HarryPotterBooks['average_rating'].max()\n",
    "mostSoldBooks = HarryPotterBooks[HarryPotterBooks['average_rating'] == heightestRate]\n",
    "mostSoldBooks=mostSoldBooks['title']        \n",
    "\n",
    "print('best selling books is '+mostSoldBooks)\n",
    "\n",
    "average_value = HarryPotterBooks['average_rating'].mean()\n",
    "average_value=str(average_value)\n",
    "print('the avrage of harry potter books is '+ average_value)"
   ]
  }
 ],
 "metadata": {
  "kernelspec": {
   "display_name": "Python 3",
   "language": "python",
   "name": "python3"
  },
  "language_info": {
   "codemirror_mode": {
    "name": "ipython",
    "version": 3
   },
   "file_extension": ".py",
   "mimetype": "text/x-python",
   "name": "python",
   "nbconvert_exporter": "python",
   "pygments_lexer": "ipython3",
   "version": "3.12.2"
  }
 },
 "nbformat": 4,
 "nbformat_minor": 2
}
